{
 "cells": [
  {
   "cell_type": "code",
   "execution_count": null,
   "id": "ece15548-4f3c-4801-bd78-52a400575569",
   "metadata": {},
   "outputs": [],
   "source": []
  }
 ],
 "metadata": {
  "kernelspec": {
   "display_name": "",
   "name": ""
  },
  "language_info": {
   "name": ""
  }
 },
 "nbformat": 4,
 "nbformat_minor": 5
}
